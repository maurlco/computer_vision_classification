{
 "cells": [
  {
   "cell_type": "code",
   "execution_count": 1,
   "metadata": {
    "collapsed": true,
    "pycharm": {
     "name": "#%%\n"
    }
   },
   "outputs": [],
   "source": [
    "import pandas as pd\n",
    "import numpy as np\n",
    "import scipy.io\n",
    "import matplotlib.pyplot as plt"
   ]
  },
  {
   "cell_type": "code",
   "execution_count": 2,
   "outputs": [],
   "source": [
    "mat_train = scipy.io.loadmat('lists/train_list.mat')"
   ],
   "metadata": {
    "collapsed": false,
    "pycharm": {
     "name": "#%%\n"
    }
   }
  },
  {
   "cell_type": "code",
   "execution_count": 3,
   "outputs": [],
   "source": [
    "mat_test = scipy.io.loadmat('lists/test_list.mat')"
   ],
   "metadata": {
    "collapsed": false,
    "pycharm": {
     "name": "#%%\n"
    }
   }
  },
  {
   "cell_type": "code",
   "execution_count": 7,
   "outputs": [],
   "source": [
    "mat_test_2 = scipy.io.loadmat('dataset/test/test_data.mat')"
   ],
   "metadata": {
    "collapsed": false,
    "pycharm": {
     "name": "#%%\n"
    }
   }
  },
  {
   "cell_type": "code",
   "execution_count": 8,
   "outputs": [
    {
     "data": {
      "text/plain": "{'__header__': b'MATLAB 5.0 MAT-file, Platform: GLNXA64, Created on: Wed Mar 28 12:07:09 2012',\n '__version__': '1.0',\n '__globals__': [],\n 'test_info': array([[(array([[array(['n02085620-Chihuahua/n02085620_2650.jpg'], dtype='<U38')],\n                [array(['n02085620-Chihuahua/n02085620_4919.jpg'], dtype='<U38')],\n                [array(['n02085620-Chihuahua/n02085620_1765.jpg'], dtype='<U38')],\n                ...,\n                [array(['n02116738-African_hunting_dog/n02116738_3635.jpg'], dtype='<U48')],\n                [array(['n02116738-African_hunting_dog/n02116738_2988.jpg'], dtype='<U48')],\n                [array(['n02116738-African_hunting_dog/n02116738_6330.jpg'], dtype='<U48')]],\n               dtype=object), array([[array(['n02085620-Chihuahua/n02085620_2650'], dtype='<U34')],\n                [array(['n02085620-Chihuahua/n02085620_4919'], dtype='<U34')],\n                [array(['n02085620-Chihuahua/n02085620_1765'], dtype='<U34')],\n                ...,\n                [array(['n02116738-African_hunting_dog/n02116738_3635'], dtype='<U44')],\n                [array(['n02116738-African_hunting_dog/n02116738_2988'], dtype='<U44')],\n                [array(['n02116738-African_hunting_dog/n02116738_6330'], dtype='<U44')]],\n               dtype=object), array([[  1],\n                [  1],\n                [  1],\n                ...,\n                [120],\n                [120],\n                [120]], dtype=uint8), array([[array(['histograms_spm/n02085620-Chihuahua/n02085620_2650.mat'],\n                       dtype='<U53')                                             ],\n                [array(['histograms_spm/n02085620-Chihuahua/n02085620_4919.mat'],\n                       dtype='<U53')                                             ],\n                [array(['histograms_spm/n02085620-Chihuahua/n02085620_1765.mat'],\n                       dtype='<U53')                                             ],\n                ...,\n                [array(['histograms_spm/n02116738-African_hunting_dog/n02116738_3635.mat'],\n                       dtype='<U63')                                                       ],\n                [array(['histograms_spm/n02116738-African_hunting_dog/n02116738_2988.mat'],\n                       dtype='<U63')                                                       ],\n                [array(['histograms_spm/n02116738-African_hunting_dog/n02116738_6330.mat'],\n                       dtype='<U63')                                                       ]],\n               dtype=object))                                                                                 ]],\n       dtype=[('file_list', 'O'), ('annotation_list', 'O'), ('labels', 'O'), ('fg_ids', 'O')]),\n 'test_fg_data': array([[2.13068182e-04, 0.00000000e+00, 7.10227273e-05, ...,\n         1.06534091e-04, 7.10227273e-05, 1.74005682e-03],\n        [0.00000000e+00, 8.40336134e-04, 6.53594771e-04, ...,\n         1.40056022e-04, 7.93650794e-04, 1.40056022e-03],\n        [7.55857899e-05, 0.00000000e+00, 1.51171580e-04, ...,\n         3.77928949e-05, 7.55857899e-05, 3.17460317e-03],\n        ...,\n        [0.00000000e+00, 0.00000000e+00, 2.34375000e-04, ...,\n         3.55468750e-03, 3.90625000e-05, 2.73437500e-04],\n        [0.00000000e+00, 8.92857143e-05, 0.00000000e+00, ...,\n         1.78571429e-04, 7.14285714e-04, 1.11607143e-03],\n        [6.72043011e-05, 0.00000000e+00, 0.00000000e+00, ...,\n         1.71370968e-03, 2.15053763e-03, 8.73655914e-04]]),\n 'test_data': array([[0.42297642, 0.44567102, 0.44322268, ..., 0.11023967, 0.28878223,\n         0.16612349],\n        [0.4346575 , 0.36657143, 0.37279967, ..., 0.22414799, 0.30590121,\n         0.25217826],\n        [0.41025734, 0.45473016, 0.42543391, ..., 0.15453042, 0.32431428,\n         0.20263375],\n        ...,\n        [0.28498557, 0.20938963, 0.24384632, ..., 0.49464286, 0.32798978,\n         0.47575572],\n        [0.39380501, 0.33590476, 0.33118885, ..., 0.2584127 , 0.34057349,\n         0.31977051],\n        [0.33602892, 0.2005464 , 0.21812583, ..., 0.36979167, 0.25407723,\n         0.35944589]])}"
     },
     "execution_count": 8,
     "metadata": {},
     "output_type": "execute_result"
    }
   ],
   "source": [
    "mat_test_2"
   ],
   "metadata": {
    "collapsed": false,
    "pycharm": {
     "name": "#%%\n"
    }
   }
  },
  {
   "cell_type": "markdown",
   "source": [],
   "metadata": {
    "collapsed": false,
    "pycharm": {
     "name": "#%% md\n"
    }
   }
  },
  {
   "cell_type": "code",
   "execution_count": 10,
   "outputs": [
    {
     "data": {
      "text/plain": "{'__header__': b'MATLAB 5.0 MAT-file, Platform: GLNXA64, Created on: Sun Oct  9 08:36:13 2011',\n '__version__': '1.0',\n '__globals__': [],\n 'file_list': array([[array(['n02085620-Chihuahua/n02085620_5927.jpg'], dtype='<U38')],\n        [array(['n02085620-Chihuahua/n02085620_4441.jpg'], dtype='<U38')],\n        [array(['n02085620-Chihuahua/n02085620_1502.jpg'], dtype='<U38')],\n        ...,\n        [array(['n02116738-African_hunting_dog/n02116738_6754.jpg'], dtype='<U48')],\n        [array(['n02116738-African_hunting_dog/n02116738_9333.jpg'], dtype='<U48')],\n        [array(['n02116738-African_hunting_dog/n02116738_2503.jpg'], dtype='<U48')]],\n       dtype=object),\n 'annotation_list': array([[array(['n02085620-Chihuahua/n02085620_5927'], dtype='<U34')],\n        [array(['n02085620-Chihuahua/n02085620_4441'], dtype='<U34')],\n        [array(['n02085620-Chihuahua/n02085620_1502'], dtype='<U34')],\n        ...,\n        [array(['n02116738-African_hunting_dog/n02116738_6754'], dtype='<U44')],\n        [array(['n02116738-African_hunting_dog/n02116738_9333'], dtype='<U44')],\n        [array(['n02116738-African_hunting_dog/n02116738_2503'], dtype='<U44')]],\n       dtype=object),\n 'labels': array([[  1],\n        [  1],\n        [  1],\n        ...,\n        [120],\n        [120],\n        [120]], dtype=uint8)}"
     },
     "execution_count": 10,
     "metadata": {},
     "output_type": "execute_result"
    }
   ],
   "source": [
    "mat_list"
   ],
   "metadata": {
    "collapsed": false,
    "pycharm": {
     "name": "#%%\n"
    }
   }
  },
  {
   "cell_type": "code",
   "execution_count": null,
   "outputs": [],
   "source": [
    "whos -file mydata.mat"
   ],
   "metadata": {
    "collapsed": false,
    "pycharm": {
     "name": "#%%\n"
    }
   }
  },
  {
   "cell_type": "code",
   "execution_count": 76,
   "outputs": [],
   "source": [
    "from sklearn.datasets import load_files\n",
    "from keras.utils import np_utils\n",
    "import numpy as np\n",
    "from glob import glob\n",
    "\n",
    "# define function to load train, test, and validation datasets\n",
    "def load_dataset(data_folder):\n",
    "    # data = load_files(data_folder)\n",
    "    train_data = loadmat(f\"{data_folder}/train_list.mat\")\n",
    "    print(type(train_data))\n",
    "    train_file_list = train_data[\"file_list\"]\n",
    "    print(train_file_list)\n",
    "    dog_files = train_file_list\n",
    "    print(train_data['labels'])\n",
    "    dog_targets = np_utils.to_categorical(np.array(train_data['labels']), 120)\n",
    "    return dog_files, dog_targets"
   ],
   "metadata": {
    "collapsed": false,
    "pycharm": {
     "name": "#%%\n"
    }
   }
  },
  {
   "cell_type": "code",
   "execution_count": 77,
   "outputs": [
    {
     "name": "stdout",
     "output_type": "stream",
     "text": [
      "<class 'dict'>\n",
      "[[array(['n02085620-Chihuahua/n02085620_5927.jpg'], dtype='<U38')]\n",
      " [array(['n02085620-Chihuahua/n02085620_4441.jpg'], dtype='<U38')]\n",
      " [array(['n02085620-Chihuahua/n02085620_1502.jpg'], dtype='<U38')]\n",
      " ...\n",
      " [array(['n02116738-African_hunting_dog/n02116738_6754.jpg'], dtype='<U48')]\n",
      " [array(['n02116738-African_hunting_dog/n02116738_9333.jpg'], dtype='<U48')]\n",
      " [array(['n02116738-African_hunting_dog/n02116738_2503.jpg'], dtype='<U48')]]\n",
      "[1]\n"
     ]
    },
    {
     "ename": "IndexError",
     "evalue": "index 120 is out of bounds for axis 1 with size 120",
     "output_type": "error",
     "traceback": [
      "\u001B[0;31m---------------------------------------------------------------------------\u001B[0m",
      "\u001B[0;31mIndexError\u001B[0m                                Traceback (most recent call last)",
      "Cell \u001B[0;32mIn[77], line 2\u001B[0m\n\u001B[1;32m      1\u001B[0m \u001B[38;5;66;03m# load train, test, and validation datasets\u001B[39;00m\n\u001B[0;32m----> 2\u001B[0m train_files, train_targets \u001B[38;5;241m=\u001B[39m \u001B[43mload_dataset\u001B[49m\u001B[43m(\u001B[49m\u001B[38;5;124;43m'\u001B[39;49m\u001B[38;5;124;43mlists\u001B[39;49m\u001B[38;5;124;43m'\u001B[39;49m\u001B[43m)\u001B[49m\n\u001B[1;32m      3\u001B[0m \u001B[38;5;66;03m# valid_files, valid_targets = load_dataset('dataset/valid')\u001B[39;00m\n\u001B[1;32m      4\u001B[0m \u001B[38;5;66;03m# test_files, test_targets = load_dataset('lists')\u001B[39;00m\n",
      "Cell \u001B[0;32mIn[76], line 15\u001B[0m, in \u001B[0;36mload_dataset\u001B[0;34m(data_folder)\u001B[0m\n\u001B[1;32m     13\u001B[0m dog_files \u001B[38;5;241m=\u001B[39m train_file_list\n\u001B[1;32m     14\u001B[0m \u001B[38;5;28mprint\u001B[39m(train_data[\u001B[38;5;124m'\u001B[39m\u001B[38;5;124mlabels\u001B[39m\u001B[38;5;124m'\u001B[39m][\u001B[38;5;241m0\u001B[39m])\n\u001B[0;32m---> 15\u001B[0m dog_targets \u001B[38;5;241m=\u001B[39m \u001B[43mnp_utils\u001B[49m\u001B[38;5;241;43m.\u001B[39;49m\u001B[43mto_categorical\u001B[49m\u001B[43m(\u001B[49m\u001B[43mtrain_data\u001B[49m\u001B[43m[\u001B[49m\u001B[38;5;124;43m'\u001B[39;49m\u001B[38;5;124;43mlabels\u001B[39;49m\u001B[38;5;124;43m'\u001B[39;49m\u001B[43m]\u001B[49m\u001B[43m,\u001B[49m\u001B[43m \u001B[49m\u001B[38;5;241;43m120\u001B[39;49m\u001B[43m)\u001B[49m\n\u001B[1;32m     16\u001B[0m \u001B[38;5;28;01mreturn\u001B[39;00m dog_files, dog_targets\n",
      "File \u001B[0;32m~/miniconda3/envs/tensorflow_2/lib/python3.10/site-packages/keras/utils/np_utils.py:73\u001B[0m, in \u001B[0;36mto_categorical\u001B[0;34m(y, num_classes, dtype)\u001B[0m\n\u001B[1;32m     71\u001B[0m n \u001B[38;5;241m=\u001B[39m y\u001B[38;5;241m.\u001B[39mshape[\u001B[38;5;241m0\u001B[39m]\n\u001B[1;32m     72\u001B[0m categorical \u001B[38;5;241m=\u001B[39m np\u001B[38;5;241m.\u001B[39mzeros((n, num_classes), dtype\u001B[38;5;241m=\u001B[39mdtype)\n\u001B[0;32m---> 73\u001B[0m \u001B[43mcategorical\u001B[49m\u001B[43m[\u001B[49m\u001B[43mnp\u001B[49m\u001B[38;5;241;43m.\u001B[39;49m\u001B[43marange\u001B[49m\u001B[43m(\u001B[49m\u001B[43mn\u001B[49m\u001B[43m)\u001B[49m\u001B[43m,\u001B[49m\u001B[43m \u001B[49m\u001B[43my\u001B[49m\u001B[43m]\u001B[49m \u001B[38;5;241m=\u001B[39m \u001B[38;5;241m1\u001B[39m\n\u001B[1;32m     74\u001B[0m output_shape \u001B[38;5;241m=\u001B[39m input_shape \u001B[38;5;241m+\u001B[39m (num_classes,)\n\u001B[1;32m     75\u001B[0m categorical \u001B[38;5;241m=\u001B[39m np\u001B[38;5;241m.\u001B[39mreshape(categorical, output_shape)\n",
      "\u001B[0;31mIndexError\u001B[0m: index 120 is out of bounds for axis 1 with size 120"
     ]
    }
   ],
   "source": [
    "# load train, test, and validation datasets\n",
    "train_files, train_targets = load_dataset('lists')\n",
    "# valid_files, valid_targets = load_dataset('dataset/valid')\n",
    "# test_files, test_targets = load_dataset('lists')"
   ],
   "metadata": {
    "collapsed": false,
    "pycharm": {
     "name": "#%%\n"
    }
   }
  },
  {
   "cell_type": "code",
   "execution_count": 40,
   "outputs": [],
   "source": [
    "import numpy as np\n",
    "from scipy.io import loadmat\n",
    "from PIL import Image\n",
    "\n",
    "def load_data(data_folder):\n",
    "    train_data = loadmat(f\"{data_folder}/train_list.mat\")\n",
    "    test_data = loadmat(f\"{data_folder}/test_list.mat\")\n",
    "    train_file_list = train_data[\"file_list\"]\n",
    "    test_file_list = test_data[\"file_list\"]\n",
    "\n",
    "    train_images = []\n",
    "    train_labels = []\n",
    "    test_images = []\n",
    "    test_labels = []\n",
    "\n",
    "    for file_list in [train_file_list, test_file_list]:\n",
    "        for file_path in file_list:\n",
    "            # Extract the file path string from the nested array\n",
    "            file_path = file_path[0]\n",
    "\n",
    "            # Load the image from the file path\n",
    "            image = Image.open(\"Images\" + \"/\" + file_path[0])\n",
    "            image = image.resize((299, 299))  # Resize the image to a fixed size\n",
    "            image_array = np.array(image)\n",
    "\n",
    "            # Extract the label from the file path\n",
    "            class_name = file_path[0].split(\"/\")[0]\n",
    "            label = class_name.split(\"-\")[-1]\n",
    "\n",
    "            # Add the image and label to the appropriate list\n",
    "            if file_list is train_file_list:\n",
    "                train_images.append(image_array)\n",
    "                train_labels.append(label)\n",
    "            else:\n",
    "                test_images.append(image_array)\n",
    "                test_labels.append(label)\n",
    "\n",
    "    return np.array(train_images), np.asarray(train_labels), np.array(test_images), np.asarray(test_labels)"
   ],
   "metadata": {
    "collapsed": false,
    "pycharm": {
     "name": "#%%\n"
    }
   }
  },
  {
   "cell_type": "code",
   "execution_count": 41,
   "outputs": [],
   "source": [
    "train_images, train_labels, test_images, test_labels = load_data(\"lists\")"
   ],
   "metadata": {
    "collapsed": false,
    "pycharm": {
     "name": "#%%\n"
    }
   }
  },
  {
   "cell_type": "code",
   "execution_count": 47,
   "outputs": [
    {
     "data": {
      "text/plain": "array([[[[ 30,  23,   5],\n         [ 30,  23,   5],\n         [ 30,  23,   5],\n         ...,\n         [ 65,  49,  13],\n         [ 65,  49,  13],\n         [ 65,  49,  13]],\n\n        [[ 30,  23,   5],\n         [ 30,  23,   5],\n         [ 30,  23,   5],\n         ...,\n         [ 65,  49,  13],\n         [ 65,  49,  13],\n         [ 65,  49,  13]],\n\n        [[ 30,  23,   5],\n         [ 30,  23,   5],\n         [ 30,  23,   5],\n         ...,\n         [ 65,  49,  13],\n         [ 65,  49,  13],\n         [ 65,  49,  13]],\n\n        ...,\n\n        [[110, 121, 113],\n         [113, 124, 116],\n         [117, 130, 121],\n         ...,\n         [ 92, 114, 102],\n         [ 91, 113, 101],\n         [ 80, 102,  90]],\n\n        [[115, 127, 125],\n         [117, 129, 126],\n         [118, 131, 127],\n         ...,\n         [ 82, 103,  94],\n         [ 86, 107,  98],\n         [ 83, 104,  95]],\n\n        [[116, 130, 130],\n         [117, 132, 129],\n         [118, 133, 130],\n         ...,\n         [ 81, 102,  93],\n         [ 91, 112, 103],\n         [ 95, 116, 107]]],\n\n\n       [[[120,  98, 101],\n         [120,  98, 101],\n         [121,  99, 102],\n         ...,\n         [140, 115, 120],\n         [134, 109, 113],\n         [132, 108, 108]],\n\n        [[120,  98, 101],\n         [121,  99, 102],\n         [121,  99, 102],\n         ...,\n         [140, 115, 120],\n         [135, 110, 113],\n         [133, 109, 109]],\n\n        [[121,  99, 102],\n         [121,  99, 102],\n         [122, 100, 103],\n         ...,\n         [141, 116, 121],\n         [136, 111, 114],\n         [133, 109, 110]],\n\n        ...,\n\n        [[  3,   3,   3],\n         [  3,   3,   3],\n         [  1,   1,   1],\n         ...,\n         [125,  90,  99],\n         [119,  85,  91],\n         [114,  81,  84]],\n\n        [[  2,   2,   2],\n         [  2,   2,   2],\n         [  2,   2,   2],\n         ...,\n         [122,  87,  94],\n         [116,  81,  87],\n         [111,  76,  80]],\n\n        [[  2,   2,   2],\n         [  2,   2,   2],\n         [  2,   2,   2],\n         ...,\n         [120,  85,  92],\n         [114,  79,  85],\n         [109,  74,  78]]],\n\n\n       [[[172, 164, 153],\n         [172, 164, 153],\n         [169, 161, 150],\n         ...,\n         [123, 105,  83],\n         [121, 104,  84],\n         [117, 100,  80]],\n\n        [[165, 157, 146],\n         [166, 158, 147],\n         [164, 156, 145],\n         ...,\n         [124, 106,  83],\n         [121, 105,  82],\n         [117, 101,  78]],\n\n        [[162, 154, 143],\n         [164, 156, 145],\n         [165, 157, 146],\n         ...,\n         [124, 106,  82],\n         [122, 103,  82],\n         [116,  98,  77]],\n\n        ...,\n\n        [[200, 191, 186],\n         [199, 190, 185],\n         [200, 191, 186],\n         ...,\n         [192, 183, 178],\n         [191, 182, 177],\n         [189, 180, 175]],\n\n        [[201, 192, 187],\n         [200, 191, 186],\n         [200, 191, 186],\n         ...,\n         [191, 182, 177],\n         [191, 180, 176],\n         [189, 178, 174]],\n\n        [[201, 192, 187],\n         [200, 191, 186],\n         [201, 192, 187],\n         ...,\n         [189, 179, 174],\n         [189, 178, 174],\n         [187, 176, 172]]],\n\n\n       ...,\n\n\n       [[[ 42,  35,  19],\n         [ 41,  34,  18],\n         [ 41,  34,  18],\n         ...,\n         [154, 149, 153],\n         [151, 146, 150],\n         [150, 145, 149]],\n\n        [[ 40,  33,  18],\n         [ 40,  33,  17],\n         [ 39,  32,  17],\n         ...,\n         [157, 153, 154],\n         [154, 150, 152],\n         [153, 149, 150]],\n\n        [[ 39,  33,  19],\n         [ 38,  32,  18],\n         [ 37,  31,  18],\n         ...,\n         [164, 160, 157],\n         [161, 157, 155],\n         [160, 156, 153]],\n\n        ...,\n\n        [[148, 102,  50],\n         [144,  99,  47],\n         [140,  95,  43],\n         ...,\n         [101, 102,  97],\n         [ 95,  96,  89],\n         [103, 104,  96]],\n\n        [[153, 103,  47],\n         [149,  99,  44],\n         [142,  95,  41],\n         ...,\n         [ 95,  95,  86],\n         [102, 100,  88],\n         [107, 105,  92]],\n\n        [[153, 104,  48],\n         [149, 100,  45],\n         [143,  96,  42],\n         ...,\n         [ 71,  72,  63],\n         [ 83,  82,  70],\n         [ 90,  88,  76]]],\n\n\n       [[[ 83, 119, 141],\n         [ 96, 132, 154],\n         [100, 136, 159],\n         ...,\n         [  6,   6,   6],\n         [  6,   6,   6],\n         [  3,   3,   3]],\n\n        [[ 86, 122, 144],\n         [ 93, 129, 152],\n         [ 96, 132, 156],\n         ...,\n         [  6,   6,   6],\n         [  6,   6,   6],\n         [  3,   3,   3]],\n\n        [[ 90, 126, 150],\n         [ 92, 128, 152],\n         [ 94, 130, 154],\n         ...,\n         [  6,   6,   6],\n         [  6,   6,   6],\n         [  3,   3,   3]],\n\n        ...,\n\n        [[  1,   2,   2],\n         [  1,   3,   2],\n         [  1,   3,   1],\n         ...,\n         [113, 106, 121],\n         [117, 110, 126],\n         [124, 117, 133]],\n\n        [[  2,   1,   6],\n         [  1,   2,   4],\n         [  1,   4,   2],\n         ...,\n         [103,  97, 111],\n         [108, 103, 116],\n         [114, 109, 122]],\n\n        [[  2,   1,   6],\n         [  1,   2,   4],\n         [  1,   4,   2],\n         ...,\n         [105,  99, 113],\n         [112, 106, 120],\n         [110, 104, 118]]],\n\n\n       [[[151, 164, 182],\n         [ 95, 116, 136],\n         [ 78, 105, 127],\n         ...,\n         [ 99,  88,  91],\n         [ 87,  82,  86],\n         [ 80,  74,  78]],\n\n        [[152, 166, 184],\n         [ 97, 117, 138],\n         [ 78, 105, 127],\n         ...,\n         [ 96,  84,  88],\n         [ 84,  79,  83],\n         [ 79,  73,  77]],\n\n        [[154, 168, 186],\n         [ 99, 118, 138],\n         [ 79, 105, 128],\n         ...,\n         [ 93,  82,  85],\n         [ 82,  77,  81],\n         [ 78,  72,  76]],\n\n        ...,\n\n        [[ 87,  87,  63],\n         [ 94,  94,  70],\n         [ 94,  94,  70],\n         ...,\n         [ 62,  54,  60],\n         [ 66,  59,  61],\n         [ 70,  63,  65]],\n\n        [[ 91,  91,  67],\n         [ 96,  96,  72],\n         [ 93,  93,  69],\n         ...,\n         [ 63,  55,  61],\n         [ 69,  60,  63],\n         [ 73,  64,  67]],\n\n        [[ 93,  93,  69],\n         [ 97,  97,  73],\n         [ 93,  93,  69],\n         ...,\n         [ 65,  58,  63],\n         [ 74,  65,  67],\n         [ 78,  69,  71]]]], dtype=uint8)"
     },
     "execution_count": 47,
     "metadata": {},
     "output_type": "execute_result"
    }
   ],
   "source": [
    "train_images"
   ],
   "metadata": {
    "collapsed": false,
    "pycharm": {
     "name": "#%%\n"
    }
   }
  },
  {
   "cell_type": "code",
   "execution_count": 6,
   "outputs": [],
   "source": [
    "df_train = pd.DataFrame(np.hstack((mat_train['file_list'], mat_train['annotation_list'],mat_train['labels'])), columns=['file name', 'annotation name','labels'])"
   ],
   "metadata": {
    "collapsed": false,
    "pycharm": {
     "name": "#%%\n"
    }
   }
  },
  {
   "cell_type": "code",
   "execution_count": 7,
   "outputs": [
    {
     "data": {
      "text/plain": "                                               file name  \\\n0               [n02085620-Chihuahua/n02085620_5927.jpg]   \n1               [n02085620-Chihuahua/n02085620_4441.jpg]   \n2               [n02085620-Chihuahua/n02085620_1502.jpg]   \n3               [n02085620-Chihuahua/n02085620_1916.jpg]   \n4              [n02085620-Chihuahua/n02085620_13151.jpg]   \n...                                                  ...   \n11995  [n02116738-African_hunting_dog/n02116738_10614...   \n11996  [n02116738-African_hunting_dog/n02116738_9282....   \n11997  [n02116738-African_hunting_dog/n02116738_6754....   \n11998  [n02116738-African_hunting_dog/n02116738_9333....   \n11999  [n02116738-African_hunting_dog/n02116738_2503....   \n\n                                       annotation name labels  \n0                 [n02085620-Chihuahua/n02085620_5927]      1  \n1                 [n02085620-Chihuahua/n02085620_4441]      1  \n2                 [n02085620-Chihuahua/n02085620_1502]      1  \n3                 [n02085620-Chihuahua/n02085620_1916]      1  \n4                [n02085620-Chihuahua/n02085620_13151]      1  \n...                                                ...    ...  \n11995  [n02116738-African_hunting_dog/n02116738_10614]    120  \n11996   [n02116738-African_hunting_dog/n02116738_9282]    120  \n11997   [n02116738-African_hunting_dog/n02116738_6754]    120  \n11998   [n02116738-African_hunting_dog/n02116738_9333]    120  \n11999   [n02116738-African_hunting_dog/n02116738_2503]    120  \n\n[12000 rows x 3 columns]",
      "text/html": "<div>\n<style scoped>\n    .dataframe tbody tr th:only-of-type {\n        vertical-align: middle;\n    }\n\n    .dataframe tbody tr th {\n        vertical-align: top;\n    }\n\n    .dataframe thead th {\n        text-align: right;\n    }\n</style>\n<table border=\"1\" class=\"dataframe\">\n  <thead>\n    <tr style=\"text-align: right;\">\n      <th></th>\n      <th>file name</th>\n      <th>annotation name</th>\n      <th>labels</th>\n    </tr>\n  </thead>\n  <tbody>\n    <tr>\n      <th>0</th>\n      <td>[n02085620-Chihuahua/n02085620_5927.jpg]</td>\n      <td>[n02085620-Chihuahua/n02085620_5927]</td>\n      <td>1</td>\n    </tr>\n    <tr>\n      <th>1</th>\n      <td>[n02085620-Chihuahua/n02085620_4441.jpg]</td>\n      <td>[n02085620-Chihuahua/n02085620_4441]</td>\n      <td>1</td>\n    </tr>\n    <tr>\n      <th>2</th>\n      <td>[n02085620-Chihuahua/n02085620_1502.jpg]</td>\n      <td>[n02085620-Chihuahua/n02085620_1502]</td>\n      <td>1</td>\n    </tr>\n    <tr>\n      <th>3</th>\n      <td>[n02085620-Chihuahua/n02085620_1916.jpg]</td>\n      <td>[n02085620-Chihuahua/n02085620_1916]</td>\n      <td>1</td>\n    </tr>\n    <tr>\n      <th>4</th>\n      <td>[n02085620-Chihuahua/n02085620_13151.jpg]</td>\n      <td>[n02085620-Chihuahua/n02085620_13151]</td>\n      <td>1</td>\n    </tr>\n    <tr>\n      <th>...</th>\n      <td>...</td>\n      <td>...</td>\n      <td>...</td>\n    </tr>\n    <tr>\n      <th>11995</th>\n      <td>[n02116738-African_hunting_dog/n02116738_10614...</td>\n      <td>[n02116738-African_hunting_dog/n02116738_10614]</td>\n      <td>120</td>\n    </tr>\n    <tr>\n      <th>11996</th>\n      <td>[n02116738-African_hunting_dog/n02116738_9282....</td>\n      <td>[n02116738-African_hunting_dog/n02116738_9282]</td>\n      <td>120</td>\n    </tr>\n    <tr>\n      <th>11997</th>\n      <td>[n02116738-African_hunting_dog/n02116738_6754....</td>\n      <td>[n02116738-African_hunting_dog/n02116738_6754]</td>\n      <td>120</td>\n    </tr>\n    <tr>\n      <th>11998</th>\n      <td>[n02116738-African_hunting_dog/n02116738_9333....</td>\n      <td>[n02116738-African_hunting_dog/n02116738_9333]</td>\n      <td>120</td>\n    </tr>\n    <tr>\n      <th>11999</th>\n      <td>[n02116738-African_hunting_dog/n02116738_2503....</td>\n      <td>[n02116738-African_hunting_dog/n02116738_2503]</td>\n      <td>120</td>\n    </tr>\n  </tbody>\n</table>\n<p>12000 rows × 3 columns</p>\n</div>"
     },
     "execution_count": 7,
     "metadata": {},
     "output_type": "execute_result"
    }
   ],
   "source": [
    "df_train"
   ],
   "metadata": {
    "collapsed": false,
    "pycharm": {
     "name": "#%%\n"
    }
   }
  },
  {
   "cell_type": "code",
   "execution_count": 4,
   "outputs": [],
   "source": [
    "df_test = pd.DataFrame(np.hstack((mat_test['file_list'], mat_test['annotation_list'],mat_test['labels'])), columns=['file name', 'annotation name','labels'])"
   ],
   "metadata": {
    "collapsed": false,
    "pycharm": {
     "name": "#%%\n"
    }
   }
  },
  {
   "cell_type": "code",
   "execution_count": 8,
   "outputs": [
    {
     "data": {
      "text/plain": "(array([2400., 2400., 2400., 2400., 2400.]),\n array([  1. ,  24.8,  48.6,  72.4,  96.2, 120. ]),\n <BarContainer object of 5 artists>)"
     },
     "execution_count": 8,
     "metadata": {},
     "output_type": "execute_result"
    },
    {
     "data": {
      "text/plain": "<Figure size 640x480 with 1 Axes>",
      "image/png": "[encoded data removed]"
     },
     "metadata": {},
     "output_type": "display_data"
    }
   ],
   "source": [
    "plt.hist(df_train['labels'], bins=5)"
   ],
   "metadata": {
    "collapsed": false,
    "pycharm": {
     "name": "#%%\n"
    }
   }
  },
  {
   "cell_type": "code",
   "execution_count": 9,
   "outputs": [
    {
     "data": {
      "text/plain": "        file name  annotation name\nlabels                            \n1             100              100\n2             100              100\n3             100              100\n4             100              100\n5             100              100\n...           ...              ...\n116           100              100\n117           100              100\n118           100              100\n119           100              100\n120           100              100\n\n[120 rows x 2 columns]",
      "text/html": "<div>\n<style scoped>\n    .dataframe tbody tr th:only-of-type {\n        vertical-align: middle;\n    }\n\n    .dataframe tbody tr th {\n        vertical-align: top;\n    }\n\n    .dataframe thead th {\n        text-align: right;\n    }\n</style>\n<table border=\"1\" class=\"dataframe\">\n  <thead>\n    <tr style=\"text-align: right;\">\n      <th></th>\n      <th>file name</th>\n      <th>annotation name</th>\n    </tr>\n    <tr>\n      <th>labels</th>\n      <th></th>\n      <th></th>\n    </tr>\n  </thead>\n  <tbody>\n    <tr>\n      <th>1</th>\n      <td>100</td>\n      <td>100</td>\n    </tr>\n    <tr>\n      <th>2</th>\n      <td>100</td>\n      <td>100</td>\n    </tr>\n    <tr>\n      <th>3</th>\n      <td>100</td>\n      <td>100</td>\n    </tr>\n    <tr>\n      <th>4</th>\n      <td>100</td>\n      <td>100</td>\n    </tr>\n    <tr>\n      <th>5</th>\n      <td>100</td>\n      <td>100</td>\n    </tr>\n    <tr>\n      <th>...</th>\n      <td>...</td>\n      <td>...</td>\n    </tr>\n    <tr>\n      <th>116</th>\n      <td>100</td>\n      <td>100</td>\n    </tr>\n    <tr>\n      <th>117</th>\n      <td>100</td>\n      <td>100</td>\n    </tr>\n    <tr>\n      <th>118</th>\n      <td>100</td>\n      <td>100</td>\n    </tr>\n    <tr>\n      <th>119</th>\n      <td>100</td>\n      <td>100</td>\n    </tr>\n    <tr>\n      <th>120</th>\n      <td>100</td>\n      <td>100</td>\n    </tr>\n  </tbody>\n</table>\n<p>120 rows × 2 columns</p>\n</div>"
     },
     "execution_count": 9,
     "metadata": {},
     "output_type": "execute_result"
    }
   ],
   "source": [
    "df_train.groupby('labels').count()"
   ],
   "metadata": {
    "collapsed": false,
    "pycharm": {
     "name": "#%%\n"
    }
   }
  },
  {
   "cell_type": "code",
   "execution_count": 10,
   "outputs": [],
   "source": [
    "labels_test = df_test.groupby('labels').count()\n"
   ],
   "metadata": {
    "collapsed": false,
    "pycharm": {
     "name": "#%%\n"
    }
   }
  },
  {
   "cell_type": "code",
   "execution_count": 11,
   "outputs": [
    {
     "data": {
      "text/plain": "        file name  annotation name\nlabels                            \n1              52               52\n2              85               85\n3             152              152\n4              49               49\n5             114              114\n...           ...              ...\n116            59               59\n117            55               55\n118            56               56\n119            50               50\n120            69               69\n\n[120 rows x 2 columns]",
      "text/html": "<div>\n<style scoped>\n    .dataframe tbody tr th:only-of-type {\n        vertical-align: middle;\n    }\n\n    .dataframe tbody tr th {\n        vertical-align: top;\n    }\n\n    .dataframe thead th {\n        text-align: right;\n    }\n</style>\n<table border=\"1\" class=\"dataframe\">\n  <thead>\n    <tr style=\"text-align: right;\">\n      <th></th>\n      <th>file name</th>\n      <th>annotation name</th>\n    </tr>\n    <tr>\n      <th>labels</th>\n      <th></th>\n      <th></th>\n    </tr>\n  </thead>\n  <tbody>\n    <tr>\n      <th>1</th>\n      <td>52</td>\n      <td>52</td>\n    </tr>\n    <tr>\n      <th>2</th>\n      <td>85</td>\n      <td>85</td>\n    </tr>\n    <tr>\n      <th>3</th>\n      <td>152</td>\n      <td>152</td>\n    </tr>\n    <tr>\n      <th>4</th>\n      <td>49</td>\n      <td>49</td>\n    </tr>\n    <tr>\n      <th>5</th>\n      <td>114</td>\n      <td>114</td>\n    </tr>\n    <tr>\n      <th>...</th>\n      <td>...</td>\n      <td>...</td>\n    </tr>\n    <tr>\n      <th>116</th>\n      <td>59</td>\n      <td>59</td>\n    </tr>\n    <tr>\n      <th>117</th>\n      <td>55</td>\n      <td>55</td>\n    </tr>\n    <tr>\n      <th>118</th>\n      <td>56</td>\n      <td>56</td>\n    </tr>\n    <tr>\n      <th>119</th>\n      <td>50</td>\n      <td>50</td>\n    </tr>\n    <tr>\n      <th>120</th>\n      <td>69</td>\n      <td>69</td>\n    </tr>\n  </tbody>\n</table>\n<p>120 rows × 2 columns</p>\n</div>"
     },
     "execution_count": 11,
     "metadata": {},
     "output_type": "execute_result"
    }
   ],
   "source": [
    "labels_test"
   ],
   "metadata": {
    "collapsed": false,
    "pycharm": {
     "name": "#%%\n"
    }
   }
  },
  {
   "cell_type": "code",
   "execution_count": 12,
   "outputs": [
    {
     "name": "stderr",
     "output_type": "stream",
     "text": [
      "/var/folders/lf/xpbzxzn13ss6xxtstbmn6t540000gn/T/ipykernel_25419/269287461.py:1: FutureWarning: The frame.append method is deprecated and will be removed from pandas in a future version. Use pandas.concat instead.\n",
      "  dataset_df = df_train.append(df_test)\n"
     ]
    },
    {
     "data": {
      "text/plain": "                                              file name  \\\n0              [n02085620-Chihuahua/n02085620_5927.jpg]   \n1              [n02085620-Chihuahua/n02085620_4441.jpg]   \n2              [n02085620-Chihuahua/n02085620_1502.jpg]   \n3              [n02085620-Chihuahua/n02085620_1916.jpg]   \n4             [n02085620-Chihuahua/n02085620_13151.jpg]   \n...                                                 ...   \n8575  [n02116738-African_hunting_dog/n02116738_4991....   \n8576  [n02116738-African_hunting_dog/n02116738_3024....   \n8577  [n02116738-African_hunting_dog/n02116738_3635....   \n8578  [n02116738-African_hunting_dog/n02116738_2988....   \n8579  [n02116738-African_hunting_dog/n02116738_6330....   \n\n                                     annotation name labels  \n0               [n02085620-Chihuahua/n02085620_5927]      1  \n1               [n02085620-Chihuahua/n02085620_4441]      1  \n2               [n02085620-Chihuahua/n02085620_1502]      1  \n3               [n02085620-Chihuahua/n02085620_1916]      1  \n4              [n02085620-Chihuahua/n02085620_13151]      1  \n...                                              ...    ...  \n8575  [n02116738-African_hunting_dog/n02116738_4991]    120  \n8576  [n02116738-African_hunting_dog/n02116738_3024]    120  \n8577  [n02116738-African_hunting_dog/n02116738_3635]    120  \n8578  [n02116738-African_hunting_dog/n02116738_2988]    120  \n8579  [n02116738-African_hunting_dog/n02116738_6330]    120  \n\n[20580 rows x 3 columns]",
      "text/html": "<div>\n<style scoped>\n    .dataframe tbody tr th:only-of-type {\n        vertical-align: middle;\n    }\n\n    .dataframe tbody tr th {\n        vertical-align: top;\n    }\n\n    .dataframe thead th {\n        text-align: right;\n    }\n</style>\n<table border=\"1\" class=\"dataframe\">\n  <thead>\n    <tr style=\"text-align: right;\">\n      <th></th>\n      <th>file name</th>\n      <th>annotation name</th>\n      <th>labels</th>\n    </tr>\n  </thead>\n  <tbody>\n    <tr>\n      <th>0</th>\n      <td>[n02085620-Chihuahua/n02085620_5927.jpg]</td>\n      <td>[n02085620-Chihuahua/n02085620_5927]</td>\n      <td>1</td>\n    </tr>\n    <tr>\n      <th>1</th>\n      <td>[n02085620-Chihuahua/n02085620_4441.jpg]</td>\n      <td>[n02085620-Chihuahua/n02085620_4441]</td>\n      <td>1</td>\n    </tr>\n    <tr>\n      <th>2</th>\n      <td>[n02085620-Chihuahua/n02085620_1502.jpg]</td>\n      <td>[n02085620-Chihuahua/n02085620_1502]</td>\n      <td>1</td>\n    </tr>\n    <tr>\n      <th>3</th>\n      <td>[n02085620-Chihuahua/n02085620_1916.jpg]</td>\n      <td>[n02085620-Chihuahua/n02085620_1916]</td>\n      <td>1</td>\n    </tr>\n    <tr>\n      <th>4</th>\n      <td>[n02085620-Chihuahua/n02085620_13151.jpg]</td>\n      <td>[n02085620-Chihuahua/n02085620_13151]</td>\n      <td>1</td>\n    </tr>\n    <tr>\n      <th>...</th>\n      <td>...</td>\n      <td>...</td>\n      <td>...</td>\n    </tr>\n    <tr>\n      <th>8575</th>\n      <td>[n02116738-African_hunting_dog/n02116738_4991....</td>\n      <td>[n02116738-African_hunting_dog/n02116738_4991]</td>\n      <td>120</td>\n    </tr>\n    <tr>\n      <th>8576</th>\n      <td>[n02116738-African_hunting_dog/n02116738_3024....</td>\n      <td>[n02116738-African_hunting_dog/n02116738_3024]</td>\n      <td>120</td>\n    </tr>\n    <tr>\n      <th>8577</th>\n      <td>[n02116738-African_hunting_dog/n02116738_3635....</td>\n      <td>[n02116738-African_hunting_dog/n02116738_3635]</td>\n      <td>120</td>\n    </tr>\n    <tr>\n      <th>8578</th>\n      <td>[n02116738-African_hunting_dog/n02116738_2988....</td>\n      <td>[n02116738-African_hunting_dog/n02116738_2988]</td>\n      <td>120</td>\n    </tr>\n    <tr>\n      <th>8579</th>\n      <td>[n02116738-African_hunting_dog/n02116738_6330....</td>\n      <td>[n02116738-African_hunting_dog/n02116738_6330]</td>\n      <td>120</td>\n    </tr>\n  </tbody>\n</table>\n<p>20580 rows × 3 columns</p>\n</div>"
     },
     "execution_count": 12,
     "metadata": {},
     "output_type": "execute_result"
    }
   ],
   "source": [
    "dataset_df = df_train.append(df_test)\n",
    "dataset_df"
   ],
   "metadata": {
    "collapsed": false,
    "pycharm": {
     "name": "#%%\n"
    }
   }
  },
  {
   "cell_type": "code",
   "execution_count": 35,
   "outputs": [
    {
     "data": {
      "text/plain": "                                              file name  \\\n0              [n02085620-Chihuahua/n02085620_5927.jpg]   \n1              [n02085620-Chihuahua/n02085620_4441.jpg]   \n2              [n02085620-Chihuahua/n02085620_1502.jpg]   \n3              [n02085620-Chihuahua/n02085620_1916.jpg]   \n4             [n02085620-Chihuahua/n02085620_13151.jpg]   \n...                                                 ...   \n8575  [n02116738-African_hunting_dog/n02116738_4991....   \n8576  [n02116738-African_hunting_dog/n02116738_3024....   \n8577  [n02116738-African_hunting_dog/n02116738_3635....   \n8578  [n02116738-African_hunting_dog/n02116738_2988....   \n8579  [n02116738-African_hunting_dog/n02116738_6330....   \n\n                                     annotation name          labels_name  \\\n0               [n02085620-Chihuahua/n02085620_5927]            Chihuahua   \n1               [n02085620-Chihuahua/n02085620_4441]            Chihuahua   \n2               [n02085620-Chihuahua/n02085620_1502]            Chihuahua   \n3               [n02085620-Chihuahua/n02085620_1916]            Chihuahua   \n4              [n02085620-Chihuahua/n02085620_13151]            Chihuahua   \n...                                              ...                  ...   \n8575  [n02116738-African_hunting_dog/n02116738_4991]  African_hunting_dog   \n8576  [n02116738-African_hunting_dog/n02116738_3024]  African_hunting_dog   \n8577  [n02116738-African_hunting_dog/n02116738_3635]  African_hunting_dog   \n8578  [n02116738-African_hunting_dog/n02116738_2988]  African_hunting_dog   \n8579  [n02116738-African_hunting_dog/n02116738_6330]  African_hunting_dog   \n\n                       labels_name2  \n0               n02085620-Chihuahua  \n1               n02085620-Chihuahua  \n2               n02085620-Chihuahua  \n3               n02085620-Chihuahua  \n4               n02085620-Chihuahua  \n...                             ...  \n8575  n02116738-African_hunting_dog  \n8576  n02116738-African_hunting_dog  \n8577  n02116738-African_hunting_dog  \n8578  n02116738-African_hunting_dog  \n8579  n02116738-African_hunting_dog  \n\n[20580 rows x 4 columns]",
      "text/html": "<div>\n<style scoped>\n    .dataframe tbody tr th:only-of-type {\n        vertical-align: middle;\n    }\n\n    .dataframe tbody tr th {\n        vertical-align: top;\n    }\n\n    .dataframe thead th {\n        text-align: right;\n    }\n</style>\n<table border=\"1\" class=\"dataframe\">\n  <thead>\n    <tr style=\"text-align: right;\">\n      <th></th>\n      <th>file name</th>\n      <th>annotation name</th>\n      <th>labels_name</th>\n      <th>labels_name2</th>\n    </tr>\n  </thead>\n  <tbody>\n    <tr>\n      <th>0</th>\n      <td>[n02085620-Chihuahua/n02085620_5927.jpg]</td>\n      <td>[n02085620-Chihuahua/n02085620_5927]</td>\n      <td>Chihuahua</td>\n      <td>n02085620-Chihuahua</td>\n    </tr>\n    <tr>\n      <th>1</th>\n      <td>[n02085620-Chihuahua/n02085620_4441.jpg]</td>\n      <td>[n02085620-Chihuahua/n02085620_4441]</td>\n      <td>Chihuahua</td>\n      <td>n02085620-Chihuahua</td>\n    </tr>\n    <tr>\n      <th>2</th>\n      <td>[n02085620-Chihuahua/n02085620_1502.jpg]</td>\n      <td>[n02085620-Chihuahua/n02085620_1502]</td>\n      <td>Chihuahua</td>\n      <td>n02085620-Chihuahua</td>\n    </tr>\n    <tr>\n      <th>3</th>\n      <td>[n02085620-Chihuahua/n02085620_1916.jpg]</td>\n      <td>[n02085620-Chihuahua/n02085620_1916]</td>\n      <td>Chihuahua</td>\n      <td>n02085620-Chihuahua</td>\n    </tr>\n    <tr>\n      <th>4</th>\n      <td>[n02085620-Chihuahua/n02085620_13151.jpg]</td>\n      <td>[n02085620-Chihuahua/n02085620_13151]</td>\n      <td>Chihuahua</td>\n      <td>n02085620-Chihuahua</td>\n    </tr>\n    <tr>\n      <th>...</th>\n      <td>...</td>\n      <td>...</td>\n      <td>...</td>\n      <td>...</td>\n    </tr>\n    <tr>\n      <th>8575</th>\n      <td>[n02116738-African_hunting_dog/n02116738_4991....</td>\n      <td>[n02116738-African_hunting_dog/n02116738_4991]</td>\n      <td>African_hunting_dog</td>\n      <td>n02116738-African_hunting_dog</td>\n    </tr>\n    <tr>\n      <th>8576</th>\n      <td>[n02116738-African_hunting_dog/n02116738_3024....</td>\n      <td>[n02116738-African_hunting_dog/n02116738_3024]</td>\n      <td>African_hunting_dog</td>\n      <td>n02116738-African_hunting_dog</td>\n    </tr>\n    <tr>\n      <th>8577</th>\n      <td>[n02116738-African_hunting_dog/n02116738_3635....</td>\n      <td>[n02116738-African_hunting_dog/n02116738_3635]</td>\n      <td>African_hunting_dog</td>\n      <td>n02116738-African_hunting_dog</td>\n    </tr>\n    <tr>\n      <th>8578</th>\n      <td>[n02116738-African_hunting_dog/n02116738_2988....</td>\n      <td>[n02116738-African_hunting_dog/n02116738_2988]</td>\n      <td>African_hunting_dog</td>\n      <td>n02116738-African_hunting_dog</td>\n    </tr>\n    <tr>\n      <th>8579</th>\n      <td>[n02116738-African_hunting_dog/n02116738_6330....</td>\n      <td>[n02116738-African_hunting_dog/n02116738_6330]</td>\n      <td>African_hunting_dog</td>\n      <td>n02116738-African_hunting_dog</td>\n    </tr>\n  </tbody>\n</table>\n<p>20580 rows × 4 columns</p>\n</div>"
     },
     "execution_count": 35,
     "metadata": {},
     "output_type": "execute_result"
    }
   ],
   "source": [
    "dataset_df['labels_name2'] = dataset_df['file name'].apply(lambda x: (x[0].split(\"/\")[0]))\n",
    "dataset_df"
   ],
   "metadata": {
    "collapsed": false,
    "pycharm": {
     "name": "#%%\n"
    }
   }
  },
  {
   "cell_type": "code",
   "execution_count": 30,
   "outputs": [],
   "source": [
    "dataset_df = dataset_df.drop('labels', axis=1)"
   ],
   "metadata": {
    "collapsed": false,
    "pycharm": {
     "name": "#%%\n"
    }
   }
  },
  {
   "cell_type": "code",
   "execution_count": 36,
   "outputs": [
    {
     "data": {
      "text/plain": "                               file name  annotation name  labels_name\nlabels_name2                                                          \nn02085620-Chihuahua                  152              152          152\nn02085782-Japanese_spaniel           185              185          185\nn02085936-Maltese_dog                252              252          252\nn02086079-Pekinese                   149              149          149\nn02086240-Shih-Tzu                   214              214          214\n...                                  ...              ...          ...\nn02113799-standard_poodle            159              159          159\nn02113978-Mexican_hairless           155              155          155\nn02115641-dingo                      156              156          156\nn02115913-dhole                      150              150          150\nn02116738-African_hunting_dog        169              169          169\n\n[120 rows x 3 columns]",
      "text/html": "<div>\n<style scoped>\n    .dataframe tbody tr th:only-of-type {\n        vertical-align: middle;\n    }\n\n    .dataframe tbody tr th {\n        vertical-align: top;\n    }\n\n    .dataframe thead th {\n        text-align: right;\n    }\n</style>\n<table border=\"1\" class=\"dataframe\">\n  <thead>\n    <tr style=\"text-align: right;\">\n      <th></th>\n      <th>file name</th>\n      <th>annotation name</th>\n      <th>labels_name</th>\n    </tr>\n    <tr>\n      <th>labels_name2</th>\n      <th></th>\n      <th></th>\n      <th></th>\n    </tr>\n  </thead>\n  <tbody>\n    <tr>\n      <th>n02085620-Chihuahua</th>\n      <td>152</td>\n      <td>152</td>\n      <td>152</td>\n    </tr>\n    <tr>\n      <th>n02085782-Japanese_spaniel</th>\n      <td>185</td>\n      <td>185</td>\n      <td>185</td>\n    </tr>\n    <tr>\n      <th>n02085936-Maltese_dog</th>\n      <td>252</td>\n      <td>252</td>\n      <td>252</td>\n    </tr>\n    <tr>\n      <th>n02086079-Pekinese</th>\n      <td>149</td>\n      <td>149</td>\n      <td>149</td>\n    </tr>\n    <tr>\n      <th>n02086240-Shih-Tzu</th>\n      <td>214</td>\n      <td>214</td>\n      <td>214</td>\n    </tr>\n    <tr>\n      <th>...</th>\n      <td>...</td>\n      <td>...</td>\n      <td>...</td>\n    </tr>\n    <tr>\n      <th>n02113799-standard_poodle</th>\n      <td>159</td>\n      <td>159</td>\n      <td>159</td>\n    </tr>\n    <tr>\n      <th>n02113978-Mexican_hairless</th>\n      <td>155</td>\n      <td>155</td>\n      <td>155</td>\n    </tr>\n    <tr>\n      <th>n02115641-dingo</th>\n      <td>156</td>\n      <td>156</td>\n      <td>156</td>\n    </tr>\n    <tr>\n      <th>n02115913-dhole</th>\n      <td>150</td>\n      <td>150</td>\n      <td>150</td>\n    </tr>\n    <tr>\n      <th>n02116738-African_hunting_dog</th>\n      <td>169</td>\n      <td>169</td>\n      <td>169</td>\n    </tr>\n  </tbody>\n</table>\n<p>120 rows × 3 columns</p>\n</div>"
     },
     "execution_count": 36,
     "metadata": {},
     "output_type": "execute_result"
    }
   ],
   "source": [
    "labels_total = dataset_df.groupby('labels_name2').count()\n",
    "labels_total"
   ],
   "metadata": {
    "collapsed": false,
    "pycharm": {
     "name": "#%%\n"
    }
   }
  },
  {
   "cell_type": "code",
   "execution_count": 37,
   "outputs": [
    {
     "data": {
      "text/plain": "                                  file name  annotation name  labels_name\nlabels_name2                                                             \nn02099601-golden_retriever              150              150          150\nn02101556-clumber                       150              150          150\nn02102177-Welsh_springer_spaniel        150              150          150\nn02102973-Irish_water_spaniel           150              150          150\nn02104029-kuvasz                        150              150          150\nn02105056-groenendael                   150              150          150\nn02105162-malinois                      150              150          150\nn02106166-Border_collie                 150              150          150\nn02106382-Bouvier_des_Flandres          150              150          150\nn02107142-Doberman                      150              150          150\nn02109961-Eskimo_dog                    150              150          150\nn02110627-affenpinscher                 150              150          150\nn02115913-dhole                         150              150          150",
      "text/html": "<div>\n<style scoped>\n    .dataframe tbody tr th:only-of-type {\n        vertical-align: middle;\n    }\n\n    .dataframe tbody tr th {\n        vertical-align: top;\n    }\n\n    .dataframe thead th {\n        text-align: right;\n    }\n</style>\n<table border=\"1\" class=\"dataframe\">\n  <thead>\n    <tr style=\"text-align: right;\">\n      <th></th>\n      <th>file name</th>\n      <th>annotation name</th>\n      <th>labels_name</th>\n    </tr>\n    <tr>\n      <th>labels_name2</th>\n      <th></th>\n      <th></th>\n      <th></th>\n    </tr>\n  </thead>\n  <tbody>\n    <tr>\n      <th>n02099601-golden_retriever</th>\n      <td>150</td>\n      <td>150</td>\n      <td>150</td>\n    </tr>\n    <tr>\n      <th>n02101556-clumber</th>\n      <td>150</td>\n      <td>150</td>\n      <td>150</td>\n    </tr>\n    <tr>\n      <th>n02102177-Welsh_springer_spaniel</th>\n      <td>150</td>\n      <td>150</td>\n      <td>150</td>\n    </tr>\n    <tr>\n      <th>n02102973-Irish_water_spaniel</th>\n      <td>150</td>\n      <td>150</td>\n      <td>150</td>\n    </tr>\n    <tr>\n      <th>n02104029-kuvasz</th>\n      <td>150</td>\n      <td>150</td>\n      <td>150</td>\n    </tr>\n    <tr>\n      <th>n02105056-groenendael</th>\n      <td>150</td>\n      <td>150</td>\n      <td>150</td>\n    </tr>\n    <tr>\n      <th>n02105162-malinois</th>\n      <td>150</td>\n      <td>150</td>\n      <td>150</td>\n    </tr>\n    <tr>\n      <th>n02106166-Border_collie</th>\n      <td>150</td>\n      <td>150</td>\n      <td>150</td>\n    </tr>\n    <tr>\n      <th>n02106382-Bouvier_des_Flandres</th>\n      <td>150</td>\n      <td>150</td>\n      <td>150</td>\n    </tr>\n    <tr>\n      <th>n02107142-Doberman</th>\n      <td>150</td>\n      <td>150</td>\n      <td>150</td>\n    </tr>\n    <tr>\n      <th>n02109961-Eskimo_dog</th>\n      <td>150</td>\n      <td>150</td>\n      <td>150</td>\n    </tr>\n    <tr>\n      <th>n02110627-affenpinscher</th>\n      <td>150</td>\n      <td>150</td>\n      <td>150</td>\n    </tr>\n    <tr>\n      <th>n02115913-dhole</th>\n      <td>150</td>\n      <td>150</td>\n      <td>150</td>\n    </tr>\n  </tbody>\n</table>\n</div>"
     },
     "execution_count": 37,
     "metadata": {},
     "output_type": "execute_result"
    }
   ],
   "source": [
    "labels_total[labels_total['file name'] == 150]"
   ],
   "metadata": {
    "collapsed": false,
    "pycharm": {
     "name": "#%%\n"
    }
   }
  },
  {
   "cell_type": "code",
   "execution_count": null,
   "outputs": [],
   "source": [],
   "metadata": {
    "collapsed": false,
    "pycharm": {
     "name": "#%%\n"
    }
   }
  },
  {
   "cell_type": "code",
   "execution_count": 33,
   "outputs": [
    {
     "data": {
      "text/plain": "<Figure size 640x480 with 1 Axes>",
      "image/png": "[encoded data removed]"
     },
     "metadata": {},
     "output_type": "display_data"
    }
   ],
   "source": [
    "plt.hist(labels_total)\n",
    "plt.xlabel('number of image per dog breed')\n",
    "plt.ylabel('number of breed')\n",
    "plt.show()"
   ],
   "metadata": {
    "collapsed": false,
    "pycharm": {
     "name": "#%%\n"
    }
   }
  },
  {
   "cell_type": "code",
   "execution_count": null,
   "outputs": [],
   "source": [
    "#select breeds with more than 160 images\n"
   ],
   "metadata": {
    "collapsed": false,
    "pycharm": {
     "name": "#%%\n"
    }
   }
  },
  {
   "cell_type": "code",
   "execution_count": null,
   "outputs": [],
   "source": [],
   "metadata": {
    "collapsed": false,
    "pycharm": {
     "name": "#%%\n"
    }
   }
  },
  {
   "cell_type": "code",
   "execution_count": null,
   "outputs": [],
   "source": [
    "from keras.preprocessing.image import ImageDataGenerator\n",
    "\n",
    "# create a new generator\n",
    "imagegen = ImageDataGenerator()\n",
    "# load train data\n",
    "train = imagegen.flow_from_directory(\"imagenette2/train/\", class_mode=\"categorical\", shuffle=False, batch_size=128, target_size=(224, 224))\n",
    "# load val data\n",
    "test = imagegen.flow_from_directory(\"imagenette2/train/\", class_mode=\"categorical\", shuffle=False, batch_size=32, target_size=(224, 224))"
   ],
   "metadata": {
    "collapsed": false,
    "pycharm": {
     "name": "#%%\n"
    }
   }
  },
  {
   "cell_type": "code",
   "execution_count": null,
   "outputs": [],
   "source": [
    "#TODO:\n",
    "#1/ : Create the X_train array of shape ( num_samples, height, width, num_channels)\n",
    "    #a):"
   ],
   "metadata": {
    "collapsed": false,
    "pycharm": {
     "name": "#%%\n"
    }
   }
  }
 ],
 "metadata": {
  "kernelspec": {
   "display_name": "Python 3",
   "language": "python",
   "name": "python3"
  },
  "language_info": {
   "codemirror_mode": {
    "name": "ipython",
    "version": 2
   },
   "file_extension": ".py",
   "mimetype": "text/x-python",
   "name": "python",
   "nbconvert_exporter": "python",
   "pygments_lexer": "ipython2",
   "version": "2.7.6"
  }
 },
 "nbformat": 4,
 "nbformat_minor": 0
}